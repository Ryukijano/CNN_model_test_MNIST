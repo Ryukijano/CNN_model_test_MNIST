import pandas as pd
import numpy as np
%matplotlib inline       # importing libraries for the model
import matplotlib as mpl
import matplotlib.pyplot as plt

import tensorflow as tf
from tensorflow import keras

fashion_mnist = keras.datasets.fashion_mnist                       #creating sets for training
(X_train_full, y_train_full), (X_test, y_test) = fashion_mnist.load_data()

class_names = ["T-shirt/top", "Trouser","Pullover","Dress","Coat","Sandal","Shirt","Sneaker","Bag","Ankle boot"]

X_train_full = X_train_full.reshape((60000,28,28,1))
X_test = X_test.reshape((10000,28,28,1))

X_train_n = X_train_full /255.
X_test_n = X_test/255.

X_valid, X_train = X_train_n[:5000], X_train_n[5000:]
y_valid, y_train = y_train_full[:5000], y_train_full[5000:]
X_test = X_test_n

np.random.seed(42)
tf.random.set_seed(42)

model = keras.models.Sequential()                            #creating the model itself
model.add(keras.layers.Conv2D(filters = 32, kernel_size =(3,3), strides =1 , padding ='valid', activation = 'relu', input_shape =(28,28,1))) #there are three variables,length breath and last is the channel
model.add(keras.layers.MaxPooling2D((2,2)))

model.add(keras.layers.Flatten())
model.add(keras.layers.Dense(300,activation="relu"))
model.add(keras.layers.Dense(100,activation="relu"))
model.add(keras.layers.Dense(10,activation="softmax"))

model.compile(loss="sparse_categorical_crossentropy",                #compiling the model
             optimizer="sgd",
             metrics=["accuracy"])
						 
model_history = model.fit(X_train, y_train, epochs=10,batch_size = 64,           #running the model
                 validation_data=(X_valid,y_valid))
import pandas as pd
 
pd.DataFrame(model_history.history).plot(figsize =(8,5))      #plotting the data in a graph, we have 8,5 instead of three variables because the channels won't be printed in 2d.
plt.grid(True)
plt.gca().set_ylim(0,1)
plt.show

ev = model.evaluate(X_test_n, y_test)           	
ev
X_new = X_test[:3]
y_pred = model.predict_classes(X_new)
y_pred
y_test[:3]
print(plt.imshow(X_test[0].reshape((28,28))))   #reshaping the 3d data back into 2d for plotting
keras.backend.clear_session
del model

